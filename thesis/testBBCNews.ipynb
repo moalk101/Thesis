{
 "cells": [
  {
   "cell_type": "markdown",
   "metadata": {},
   "source": [
    "All the tests are in this Notebook implemented"
   ]
  },
  {
   "cell_type": "code",
   "execution_count": 1,
   "metadata": {},
   "outputs": [],
   "source": [
    "#from preprocess import search\n",
    "import pandas as pd\n",
    "import gensim.downloader\n",
    "import ast"
   ]
  },
  {
   "cell_type": "code",
   "execution_count": null,
   "metadata": {},
   "outputs": [],
   "source": [
    "training_set = gensim.downloader.load('word2vec-google-news-300')"
   ]
  },
  {
   "cell_type": "code",
   "execution_count": null,
   "metadata": {},
   "outputs": [],
   "source": [
    "\n",
    "# df_docs=pd.read_csv(\"modified_data.csv\")\n",
    "# df_queries=pd.read_csv(\"labeld_queries.csv\")\n",
    "# df_queries[\"mean_vec\"]=df_queries[\"mean_vec\"].apply(lambda x: ast.literal_eval(x))\n",
    "# len(df_docs)==len(df_queries)\n",
    "# def n_fails(queries):\n",
    "#     count = 0\n",
    "#     for query in queries:\n",
    "#         s_result=search(query[0],3)\n",
    "#         if query[1] not in s_result:\n",
    "#             count=count+1\n",
    "#     return count\n",
    "# def compine_queries_labels(nqueries):\n",
    "#     query_label=[(query,label) for query,label in zip(df_queries[\"query\"][0:nqueries],df_queries[\"document\"][0:nqueries])]\n",
    "#     return query_label\n",
    "# query_label=compine_queries_labels(20)\n",
    "# [search(query_label[i][0],3) for i in range(0,20)]\n",
    "# n_fails(query_label)/len(query_label)"
   ]
  },
  {
   "cell_type": "code",
   "execution_count": 1,
   "metadata": {},
   "outputs": [],
   "source": [
    "from ipyparallel import Client\n",
    "import numpy as np\n",
    "import pandas as pd\n",
    "import ast"
   ]
  },
  {
   "cell_type": "code",
   "execution_count": 4,
   "metadata": {},
   "outputs": [],
   "source": [
    "rc = Client()\n",
    "lv = rc.load_balanced_view()\n",
    "dv = rc[:]"
   ]
  },
  {
   "cell_type": "code",
   "execution_count": null,
   "metadata": {},
   "outputs": [],
   "source": [
    "# def mean_vector(input):\n",
    "#     keys=[x for x in input.split() if training_set.__contains__(x)]\n",
    "#     meanVec=np.mean(np.array(list(map(lambda x :\n",
    "#                                        training_set.get_vector(x) ,\n",
    "#                                          keys))),axis=0)\n",
    "#     return meanVec\n",
    "\n",
    "# df=pd.read_csv(\"back_up/labeld_queries_five.csv\")\n",
    "# df[\"mean_vec\"]=[list(mean_vector(input)) for input in df[\"query\"]]\n",
    "# df.to_csv(\"back_up/labeld_queries_five.csv\",index=False)"
   ]
  },
  {
   "cell_type": "code",
   "execution_count": 5,
   "metadata": {},
   "outputs": [
    {
     "data": {
      "text/html": [
       "<div>\n",
       "<style scoped>\n",
       "    .dataframe tbody tr th:only-of-type {\n",
       "        vertical-align: middle;\n",
       "    }\n",
       "\n",
       "    .dataframe tbody tr th {\n",
       "        vertical-align: top;\n",
       "    }\n",
       "\n",
       "    .dataframe thead th {\n",
       "        text-align: right;\n",
       "    }\n",
       "</style>\n",
       "<table border=\"1\" class=\"dataframe\">\n",
       "  <thead>\n",
       "    <tr style=\"text-align: right;\">\n",
       "      <th></th>\n",
       "      <th>document</th>\n",
       "      <th>query</th>\n",
       "      <th>mean_vec</th>\n",
       "    </tr>\n",
       "  </thead>\n",
       "  <tbody>\n",
       "    <tr>\n",
       "      <th>0</th>\n",
       "      <td>0.txt</td>\n",
       "      <td>government total august south robert national ...</td>\n",
       "      <td>[-0.02220891, -0.008327238, -0.015622603, 0.04...</td>\n",
       "    </tr>\n",
       "    <tr>\n",
       "      <th>1</th>\n",
       "      <td>1.txt</td>\n",
       "      <td>white health retrieved world american election...</td>\n",
       "      <td>[-0.02980545, 0.011205166, -0.010511813, 0.053...</td>\n",
       "    </tr>\n",
       "    <tr>\n",
       "      <th>2</th>\n",
       "      <td>2.txt</td>\n",
       "      <td>prince since on queen prime also bbc took in r...</td>\n",
       "      <td>[-0.01771623, 0.006959884, -0.018862734, 0.054...</td>\n",
       "    </tr>\n",
       "    <tr>\n",
       "      <th>3</th>\n",
       "      <td>3.txt</td>\n",
       "      <td>culture census business january many congress ...</td>\n",
       "      <td>[-0.01835768, -0.0015837983, -0.01926455, 0.04...</td>\n",
       "    </tr>\n",
       "    <tr>\n",
       "      <th>4</th>\n",
       "      <td>4.txt</td>\n",
       "      <td>messi in serie october mark united his decembe...</td>\n",
       "      <td>[-0.0088726785, -0.0036963962, -0.04611436, 0....</td>\n",
       "    </tr>\n",
       "  </tbody>\n",
       "</table>\n",
       "</div>"
      ],
      "text/plain": [
       "  document                                              query  \\\n",
       "0    0.txt  government total august south robert national ...   \n",
       "1    1.txt  white health retrieved world american election...   \n",
       "2    2.txt  prince since on queen prime also bbc took in r...   \n",
       "3    3.txt  culture census business january many congress ...   \n",
       "4    4.txt  messi in serie october mark united his decembe...   \n",
       "\n",
       "                                            mean_vec  \n",
       "0  [-0.02220891, -0.008327238, -0.015622603, 0.04...  \n",
       "1  [-0.02980545, 0.011205166, -0.010511813, 0.053...  \n",
       "2  [-0.01771623, 0.006959884, -0.018862734, 0.054...  \n",
       "3  [-0.01835768, -0.0015837983, -0.01926455, 0.04...  \n",
       "4  [-0.0088726785, -0.0036963962, -0.04611436, 0....  "
      ]
     },
     "execution_count": 5,
     "metadata": {},
     "output_type": "execute_result"
    }
   ],
   "source": [
    "queries_fasttext=pd.read_csv(\"back_up/queries_wiki_fasttext.csv\")\n",
    "queries_fasttext[\"mean_vec\"]=queries_fasttext[\"mean_vec\"].apply(lambda x: ast.literal_eval(x))\n",
    "queries_fasttext.head()"
   ]
  },
  {
   "cell_type": "code",
   "execution_count": 6,
   "metadata": {},
   "outputs": [
    {
     "data": {
      "text/html": [
       "<div>\n",
       "<style scoped>\n",
       "    .dataframe tbody tr th:only-of-type {\n",
       "        vertical-align: middle;\n",
       "    }\n",
       "\n",
       "    .dataframe tbody tr th {\n",
       "        vertical-align: top;\n",
       "    }\n",
       "\n",
       "    .dataframe thead th {\n",
       "        text-align: right;\n",
       "    }\n",
       "</style>\n",
       "<table border=\"1\" class=\"dataframe\">\n",
       "  <thead>\n",
       "    <tr style=\"text-align: right;\">\n",
       "      <th></th>\n",
       "      <th>document</th>\n",
       "      <th>query</th>\n",
       "      <th>mean_vec</th>\n",
       "    </tr>\n",
       "  </thead>\n",
       "  <tbody>\n",
       "    <tr>\n",
       "      <th>0</th>\n",
       "      <td>0.txt</td>\n",
       "      <td>government total august south robert national ...</td>\n",
       "      <td>[-0.022231573, 0.0064481837, 0.018618293, 0.14...</td>\n",
       "    </tr>\n",
       "    <tr>\n",
       "      <th>1</th>\n",
       "      <td>1.txt</td>\n",
       "      <td>white health retrieved world american election...</td>\n",
       "      <td>[-0.047281824, 0.02674435, -0.0011718442, 0.11...</td>\n",
       "    </tr>\n",
       "    <tr>\n",
       "      <th>2</th>\n",
       "      <td>2.txt</td>\n",
       "      <td>prince since on queen prime also bbc took in r...</td>\n",
       "      <td>[-0.01903558, 0.010344335, -0.0028643156, 0.10...</td>\n",
       "    </tr>\n",
       "    <tr>\n",
       "      <th>3</th>\n",
       "      <td>3.txt</td>\n",
       "      <td>culture census business january many congress ...</td>\n",
       "      <td>[-0.016901081, 0.029715527, 0.022326695, 0.121...</td>\n",
       "    </tr>\n",
       "    <tr>\n",
       "      <th>4</th>\n",
       "      <td>4.txt</td>\n",
       "      <td>messi in serie october mark united his decembe...</td>\n",
       "      <td>[-0.035097048, 0.03581955, 0.047996063, 0.0971...</td>\n",
       "    </tr>\n",
       "  </tbody>\n",
       "</table>\n",
       "</div>"
      ],
      "text/plain": [
       "  document                                              query  \\\n",
       "0    0.txt  government total august south robert national ...   \n",
       "1    1.txt  white health retrieved world american election...   \n",
       "2    2.txt  prince since on queen prime also bbc took in r...   \n",
       "3    3.txt  culture census business january many congress ...   \n",
       "4    4.txt  messi in serie october mark united his decembe...   \n",
       "\n",
       "                                            mean_vec  \n",
       "0  [-0.022231573, 0.0064481837, 0.018618293, 0.14...  \n",
       "1  [-0.047281824, 0.02674435, -0.0011718442, 0.11...  \n",
       "2  [-0.01903558, 0.010344335, -0.0028643156, 0.10...  \n",
       "3  [-0.016901081, 0.029715527, 0.022326695, 0.121...  \n",
       "4  [-0.035097048, 0.03581955, 0.047996063, 0.0971...  "
      ]
     },
     "execution_count": 6,
     "metadata": {},
     "output_type": "execute_result"
    }
   ],
   "source": [
    "queries_gensim=pd.read_csv(\"back_up/queries_wiki_gensim.csv\")\n",
    "queries_gensim[\"mean_vec\"]=queries_gensim[\"mean_vec\"].apply(lambda x: ast.literal_eval(x))\n",
    "queries_gensim.head()"
   ]
  },
  {
   "cell_type": "code",
   "execution_count": 75,
   "metadata": {},
   "outputs": [
    {
     "data": {
      "text/html": [
       "<div>\n",
       "<style scoped>\n",
       "    .dataframe tbody tr th:only-of-type {\n",
       "        vertical-align: middle;\n",
       "    }\n",
       "\n",
       "    .dataframe tbody tr th {\n",
       "        vertical-align: top;\n",
       "    }\n",
       "\n",
       "    .dataframe thead th {\n",
       "        text-align: right;\n",
       "    }\n",
       "</style>\n",
       "<table border=\"1\" class=\"dataframe\">\n",
       "  <thead>\n",
       "    <tr style=\"text-align: right;\">\n",
       "      <th></th>\n",
       "      <th>document</th>\n",
       "      <th>query</th>\n",
       "      <th>mean_vec</th>\n",
       "    </tr>\n",
       "  </thead>\n",
       "  <tbody>\n",
       "    <tr>\n",
       "      <th>0</th>\n",
       "      <td>business001.txt</td>\n",
       "      <td>rose profits internet quarter warner but it gr...</td>\n",
       "      <td>[-0.038938735, 0.08812269, -0.08794488, 0.0866...</td>\n",
       "    </tr>\n",
       "    <tr>\n",
       "      <th>1</th>\n",
       "      <td>business002.txt</td>\n",
       "      <td>thursday could current us months concerns acco...</td>\n",
       "      <td>[-0.008850098, 0.03701477, 0.031233216, 0.1154...</td>\n",
       "    </tr>\n",
       "    <tr>\n",
       "      <th>2</th>\n",
       "      <td>business003.txt</td>\n",
       "      <td>loan assets company yukos buyer rosneft ask sa...</td>\n",
       "      <td>[0.065804616, 0.049595423, 0.020228794, -0.085...</td>\n",
       "    </tr>\n",
       "    <tr>\n",
       "      <th>3</th>\n",
       "      <td>business004.txt</td>\n",
       "      <td>ba prices turnover previously results profits ...</td>\n",
       "      <td>[-0.03770981, 0.09681396, -0.016870117, 0.0945...</td>\n",
       "    </tr>\n",
       "    <tr>\n",
       "      <th>4</th>\n",
       "      <td>business005.txt</td>\n",
       "      <td>allied lifts shares performance the capitalisa...</td>\n",
       "      <td>[0.04499054, 0.0413208, 0.049591064, 0.0370483...</td>\n",
       "    </tr>\n",
       "  </tbody>\n",
       "</table>\n",
       "</div>"
      ],
      "text/plain": [
       "          document                                              query  \\\n",
       "0  business001.txt  rose profits internet quarter warner but it gr...   \n",
       "1  business002.txt  thursday could current us months concerns acco...   \n",
       "2  business003.txt  loan assets company yukos buyer rosneft ask sa...   \n",
       "3  business004.txt  ba prices turnover previously results profits ...   \n",
       "4  business005.txt  allied lifts shares performance the capitalisa...   \n",
       "\n",
       "                                            mean_vec  \n",
       "0  [-0.038938735, 0.08812269, -0.08794488, 0.0866...  \n",
       "1  [-0.008850098, 0.03701477, 0.031233216, 0.1154...  \n",
       "2  [0.065804616, 0.049595423, 0.020228794, -0.085...  \n",
       "3  [-0.03770981, 0.09681396, -0.016870117, 0.0945...  \n",
       "4  [0.04499054, 0.0413208, 0.049591064, 0.0370483...  "
      ]
     },
     "execution_count": 75,
     "metadata": {},
     "output_type": "execute_result"
    }
   ],
   "source": [
    "bbc_queries_word2vec=pd.read_csv(\"labeld_queries.csv\")\n",
    "bbc_queries_word2vec[\"mean_vec\"]=bbc_queries_word2vec[\"mean_vec\"].apply(lambda x: ast.literal_eval(x))\n",
    "bbc_queries_word2vec.head()"
   ]
  },
  {
   "cell_type": "code",
   "execution_count": 25,
   "metadata": {},
   "outputs": [
    {
     "data": {
      "text/html": [
       "<div>\n",
       "<style scoped>\n",
       "    .dataframe tbody tr th:only-of-type {\n",
       "        vertical-align: middle;\n",
       "    }\n",
       "\n",
       "    .dataframe tbody tr th {\n",
       "        vertical-align: top;\n",
       "    }\n",
       "\n",
       "    .dataframe thead th {\n",
       "        text-align: right;\n",
       "    }\n",
       "</style>\n",
       "<table border=\"1\" class=\"dataframe\">\n",
       "  <thead>\n",
       "    <tr style=\"text-align: right;\">\n",
       "      <th></th>\n",
       "      <th>Unnamed: 0</th>\n",
       "      <th>document</th>\n",
       "      <th>query</th>\n",
       "      <th>mean_vec</th>\n",
       "    </tr>\n",
       "  </thead>\n",
       "  <tbody>\n",
       "    <tr>\n",
       "      <th>0</th>\n",
       "      <td>0</td>\n",
       "      <td>business001.txt</td>\n",
       "      <td>rose profits internet quarter warner but it gr...</td>\n",
       "      <td>[-0.028730934, 0.002077846, -0.013332417, 0.05...</td>\n",
       "    </tr>\n",
       "    <tr>\n",
       "      <th>1</th>\n",
       "      <td>1</td>\n",
       "      <td>business002.txt</td>\n",
       "      <td>thursday could current us months concerns acco...</td>\n",
       "      <td>[-0.039035387, -0.02914893, 0.026502484, 0.018...</td>\n",
       "    </tr>\n",
       "    <tr>\n",
       "      <th>2</th>\n",
       "      <td>2</td>\n",
       "      <td>business003.txt</td>\n",
       "      <td>loan assets company yukos buyer rosneft ask sa...</td>\n",
       "      <td>[0.0046111643, 0.028751012, 0.015996125, 0.056...</td>\n",
       "    </tr>\n",
       "    <tr>\n",
       "      <th>3</th>\n",
       "      <td>3</td>\n",
       "      <td>business004.txt</td>\n",
       "      <td>ba prices turnover previously results profits ...</td>\n",
       "      <td>[-0.03754465, 0.0075142207, -0.034372486, 0.06...</td>\n",
       "    </tr>\n",
       "    <tr>\n",
       "      <th>4</th>\n",
       "      <td>4</td>\n",
       "      <td>business005.txt</td>\n",
       "      <td>allied lifts shares performance the capitalisa...</td>\n",
       "      <td>[-0.029064048, 0.021426257, 0.015986841, 0.044...</td>\n",
       "    </tr>\n",
       "  </tbody>\n",
       "</table>\n",
       "</div>"
      ],
      "text/plain": [
       "   Unnamed: 0         document  \\\n",
       "0           0  business001.txt   \n",
       "1           1  business002.txt   \n",
       "2           2  business003.txt   \n",
       "3           3  business004.txt   \n",
       "4           4  business005.txt   \n",
       "\n",
       "                                               query  \\\n",
       "0  rose profits internet quarter warner but it gr...   \n",
       "1  thursday could current us months concerns acco...   \n",
       "2  loan assets company yukos buyer rosneft ask sa...   \n",
       "3  ba prices turnover previously results profits ...   \n",
       "4  allied lifts shares performance the capitalisa...   \n",
       "\n",
       "                                            mean_vec  \n",
       "0  [-0.028730934, 0.002077846, -0.013332417, 0.05...  \n",
       "1  [-0.039035387, -0.02914893, 0.026502484, 0.018...  \n",
       "2  [0.0046111643, 0.028751012, 0.015996125, 0.056...  \n",
       "3  [-0.03754465, 0.0075142207, -0.034372486, 0.06...  \n",
       "4  [-0.029064048, 0.021426257, 0.015986841, 0.044...  "
      ]
     },
     "execution_count": 25,
     "metadata": {},
     "output_type": "execute_result"
    }
   ],
   "source": [
    "bbc_queries_fasttext=pd.read_csv(\"back_up/labeld_queries_fasttext.csv\")\n",
    "bbc_queries_fasttext[\"mean_vec\"]=bbc_queries_fasttext[\"mean_vec\"].apply(lambda x: ast.literal_eval(x))\n",
    "bbc_queries_fasttext.head()"
   ]
  },
  {
   "cell_type": "code",
   "execution_count": 72,
   "metadata": {},
   "outputs": [],
   "source": [
    "dataframe_lemmetized= pd.read_csv(\"back_up/modified_data_lemmetized.csv\")\n",
    "dataframe_lemmetized[\"mean_vector\"]=dataframe_lemmetized[\"mean_vector\"].apply(lambda x: ast.literal_eval(x))\n",
    "\n",
    "dataframe_not_lemmetized= pd.read_csv(\"back_up/modified_data_not_lemmetized.csv\")\n",
    "dataframe_not_lemmetized[\"mean_vector\"]=dataframe_not_lemmetized[\"mean_vector\"].apply(lambda x: ast.literal_eval(x))\n",
    "\n",
    "# dataframe_redundant= pd.read_csv(\"back_up/modified_data_redundant.csv\")\n",
    "# dataframe_redundant[\"mean_vector\"]=dataframe_redundant[\"mean_vector\"].apply(lambda x: ast.literal_eval(x))\n",
    "\n",
    "# dataframe_gensim= pd.read_csv(\"back_up/modified_data_wiki_gensim.csv\")\n",
    "# dataframe_gensim[\"mean_vector\"]=dataframe_gensim[\"mean_vector\"].apply(lambda x: ast.literal_eval(x))\n",
    "# dataframe_fasttext= pd.read_csv(\"back_up/modified_data_wiki_fasttext.csv\")\n",
    "# dataframe_fasttext[\"mean_vector\"]=dataframe_fasttext[\"mean_vector\"].apply(lambda x: ast.literal_eval(x))\n",
    "# bbc_fasttext= pd.read_csv(\"back_up/modified_data_bbc_fasttext.csv\")\n",
    "# bbc_fasttext[\"mean_vector\"]=bbc_fasttext[\"mean_vector\"].apply(lambda x: ast.literal_eval(x))"
   ]
  },
  {
   "cell_type": "code",
   "execution_count": 24,
   "metadata": {},
   "outputs": [
    {
     "data": {
      "text/html": [
       "<div>\n",
       "<style scoped>\n",
       "    .dataframe tbody tr th:only-of-type {\n",
       "        vertical-align: middle;\n",
       "    }\n",
       "\n",
       "    .dataframe tbody tr th {\n",
       "        vertical-align: top;\n",
       "    }\n",
       "\n",
       "    .dataframe thead th {\n",
       "        text-align: right;\n",
       "    }\n",
       "</style>\n",
       "<table border=\"1\" class=\"dataframe\">\n",
       "  <thead>\n",
       "    <tr style=\"text-align: right;\">\n",
       "      <th></th>\n",
       "      <th>address</th>\n",
       "      <th>html</th>\n",
       "      <th>hash_code</th>\n",
       "      <th>embedding_index</th>\n",
       "      <th>mean_vector</th>\n",
       "    </tr>\n",
       "  </thead>\n",
       "  <tbody>\n",
       "    <tr>\n",
       "      <th>0</th>\n",
       "      <td>business001.txt</td>\n",
       "      <td>['account', 'revenues', 'flop', 'flexibility',...</td>\n",
       "      <td>business001.txt</td>\n",
       "      <td>[1201, 1619, 19182, 4336, 2571, 173, 516, 1466...</td>\n",
       "      <td>[-0.016197465, 0.013087807, 0.0092863655, 0.06...</td>\n",
       "    </tr>\n",
       "    <tr>\n",
       "      <th>1</th>\n",
       "      <td>business002.txt</td>\n",
       "      <td>['account', 'deaf', 'assets', 'help', 'gain', ...</td>\n",
       "      <td>business002.txt</td>\n",
       "      <td>[1201, 16189, 1146, 173, 1466, 109246, 350, 10...</td>\n",
       "      <td>[-0.020022081, -0.002045798, 0.022489142, 0.07...</td>\n",
       "    </tr>\n",
       "    <tr>\n",
       "      <th>2</th>\n",
       "      <td>business003.txt</td>\n",
       "      <td>['obligations', 'group', 'assets', 'ask', 'alr...</td>\n",
       "      <td>business003.txt</td>\n",
       "      <td>[5510, 229, 1146, 1111, 311, 5517, 591, 450, 9...</td>\n",
       "      <td>[-0.022347847, 0.014900404, 0.012938152, 0.056...</td>\n",
       "    </tr>\n",
       "    <tr>\n",
       "      <th>3</th>\n",
       "      <td>business004.txt</td>\n",
       "      <td>['compare', 'pretty', 'revenues', 'operate', '...</td>\n",
       "      <td>business004.txt</td>\n",
       "      <td>[6002, 891, 1619, 2571, 173, 1765, 127, 2993, ...</td>\n",
       "      <td>[-0.020902194, 0.0067411563, -0.0030109775, 0....</td>\n",
       "    </tr>\n",
       "    <tr>\n",
       "      <th>4</th>\n",
       "      <td>business005.txt</td>\n",
       "      <td>['wine', 'lvmh', 'brand', 'one', 'goods', 'wel...</td>\n",
       "      <td>business005.txt</td>\n",
       "      <td>[3305, 1449, 45, 2574, 112, 36, 842, 14503, 33...</td>\n",
       "      <td>[-0.01017153, 0.008563135, -0.0061687753, 0.06...</td>\n",
       "    </tr>\n",
       "  </tbody>\n",
       "</table>\n",
       "</div>"
      ],
      "text/plain": [
       "           address                                               html  \\\n",
       "0  business001.txt  ['account', 'revenues', 'flop', 'flexibility',...   \n",
       "1  business002.txt  ['account', 'deaf', 'assets', 'help', 'gain', ...   \n",
       "2  business003.txt  ['obligations', 'group', 'assets', 'ask', 'alr...   \n",
       "3  business004.txt  ['compare', 'pretty', 'revenues', 'operate', '...   \n",
       "4  business005.txt  ['wine', 'lvmh', 'brand', 'one', 'goods', 'wel...   \n",
       "\n",
       "         hash_code                                    embedding_index  \\\n",
       "0  business001.txt  [1201, 1619, 19182, 4336, 2571, 173, 516, 1466...   \n",
       "1  business002.txt  [1201, 16189, 1146, 173, 1466, 109246, 350, 10...   \n",
       "2  business003.txt  [5510, 229, 1146, 1111, 311, 5517, 591, 450, 9...   \n",
       "3  business004.txt  [6002, 891, 1619, 2571, 173, 1765, 127, 2993, ...   \n",
       "4  business005.txt  [3305, 1449, 45, 2574, 112, 36, 842, 14503, 33...   \n",
       "\n",
       "                                         mean_vector  \n",
       "0  [-0.016197465, 0.013087807, 0.0092863655, 0.06...  \n",
       "1  [-0.020022081, -0.002045798, 0.022489142, 0.07...  \n",
       "2  [-0.022347847, 0.014900404, 0.012938152, 0.056...  \n",
       "3  [-0.020902194, 0.0067411563, -0.0030109775, 0....  \n",
       "4  [-0.01017153, 0.008563135, -0.0061687753, 0.06...  "
      ]
     },
     "execution_count": 24,
     "metadata": {},
     "output_type": "execute_result"
    }
   ],
   "source": [
    "# bbc_fasttext.head()"
   ]
  },
  {
   "cell_type": "code",
   "execution_count": 53,
   "metadata": {},
   "outputs": [
    {
     "data": {
      "text/html": [
       "<div>\n",
       "<style scoped>\n",
       "    .dataframe tbody tr th:only-of-type {\n",
       "        vertical-align: middle;\n",
       "    }\n",
       "\n",
       "    .dataframe tbody tr th {\n",
       "        vertical-align: top;\n",
       "    }\n",
       "\n",
       "    .dataframe thead th {\n",
       "        text-align: right;\n",
       "    }\n",
       "</style>\n",
       "<table border=\"1\" class=\"dataframe\">\n",
       "  <thead>\n",
       "    <tr style=\"text-align: right;\">\n",
       "      <th></th>\n",
       "      <th>address</th>\n",
       "      <th>html</th>\n",
       "      <th>hash_code</th>\n",
       "      <th>embedding_index</th>\n",
       "      <th>mean_vector</th>\n",
       "    </tr>\n",
       "  </thead>\n",
       "  <tbody>\n",
       "    <tr>\n",
       "      <th>0</th>\n",
       "      <td>0.txt</td>\n",
       "      <td>['land', 'spring', 'wrap', 'member', 'affect',...</td>\n",
       "      <td>0.txt</td>\n",
       "      <td>[877, 1312, 7659, 536, 2220, 94, 671533, 11303...</td>\n",
       "      <td>[0.006763216, 0.021769166, 0.0070117326, 0.115...</td>\n",
       "    </tr>\n",
       "    <tr>\n",
       "      <th>1</th>\n",
       "      <td>1.txt</td>\n",
       "      <td>['levine', 'affiliation', 'тылаsakizayagagana'...</td>\n",
       "      <td>1.txt</td>\n",
       "      <td>[12714, 21394, 14488, 660, 471518, 151024, 636...</td>\n",
       "      <td>[0.006228521, 0.025773851, 0.009762919, 0.0876...</td>\n",
       "    </tr>\n",
       "    <tr>\n",
       "      <th>2</th>\n",
       "      <td>2.txt</td>\n",
       "      <td>['subsequently', 'land', 'macqueen', 'member',...</td>\n",
       "      <td>2.txt</td>\n",
       "      <td>[6774, 877, 536, 2220, 541151, 94, 17528, 1115...</td>\n",
       "      <td>[0.015645692, 0.02687135, 0.0032806485, 0.0958...</td>\n",
       "    </tr>\n",
       "    <tr>\n",
       "      <th>3</th>\n",
       "      <td>3.txt</td>\n",
       "      <td>['subsequently', 'land', 'heine', 'spring', 'w...</td>\n",
       "      <td>3.txt</td>\n",
       "      <td>[6774, 877, 1312, 7659, 50604, 536, 2220, 94, ...</td>\n",
       "      <td>[0.01544634, 0.036536463, 0.009860179, 0.11360...</td>\n",
       "    </tr>\n",
       "    <tr>\n",
       "      <th>4</th>\n",
       "      <td>4.txt</td>\n",
       "      <td>['subsequently', 'land', 'member', 'affect', '...</td>\n",
       "      <td>4.txt</td>\n",
       "      <td>[6774, 877, 536, 2220, 94, 52509, 216, 14797, ...</td>\n",
       "      <td>[0.0050075427, 0.032835513, 0.012704999, 0.077...</td>\n",
       "    </tr>\n",
       "  </tbody>\n",
       "</table>\n",
       "</div>"
      ],
      "text/plain": [
       "  address                                               html hash_code  \\\n",
       "0   0.txt  ['land', 'spring', 'wrap', 'member', 'affect',...     0.txt   \n",
       "1   1.txt  ['levine', 'affiliation', 'тылаsakizayagagana'...     1.txt   \n",
       "2   2.txt  ['subsequently', 'land', 'macqueen', 'member',...     2.txt   \n",
       "3   3.txt  ['subsequently', 'land', 'heine', 'spring', 'w...     3.txt   \n",
       "4   4.txt  ['subsequently', 'land', 'member', 'affect', '...     4.txt   \n",
       "\n",
       "                                     embedding_index  \\\n",
       "0  [877, 1312, 7659, 536, 2220, 94, 671533, 11303...   \n",
       "1  [12714, 21394, 14488, 660, 471518, 151024, 636...   \n",
       "2  [6774, 877, 536, 2220, 541151, 94, 17528, 1115...   \n",
       "3  [6774, 877, 1312, 7659, 50604, 536, 2220, 94, ...   \n",
       "4  [6774, 877, 536, 2220, 94, 52509, 216, 14797, ...   \n",
       "\n",
       "                                         mean_vector  \n",
       "0  [0.006763216, 0.021769166, 0.0070117326, 0.115...  \n",
       "1  [0.006228521, 0.025773851, 0.009762919, 0.0876...  \n",
       "2  [0.015645692, 0.02687135, 0.0032806485, 0.0958...  \n",
       "3  [0.01544634, 0.036536463, 0.009860179, 0.11360...  \n",
       "4  [0.0050075427, 0.032835513, 0.012704999, 0.077...  "
      ]
     },
     "execution_count": 53,
     "metadata": {},
     "output_type": "execute_result"
    }
   ],
   "source": [
    "# dataframe_gensim.head()"
   ]
  },
  {
   "cell_type": "code",
   "execution_count": 8,
   "metadata": {},
   "outputs": [],
   "source": [
    "# This a search function specifically for the test data\n",
    "# It return a list of 1 and 0 where 1 if the prediction is correct and 0 else\n",
    "def search1(input,nresults,dataframe):\n",
    "    from scipy.spatial.distance import cosine\n",
    "    sims=[(i,1-cosine(input[1],\n",
    "                      dataframe[\"mean_vector\"][i]))\n",
    "           for i in range(input[3])]\n",
    "    sims.sort(key=lambda x:x[1],reverse=True)\n",
    "    links=[dataframe[\"address\"][i[0]]\n",
    "            for i in sims[0:nresults]]\n",
    "    return 1 if input[2] in links else 0"
   ]
  },
  {
   "cell_type": "code",
   "execution_count": 66,
   "metadata": {},
   "outputs": [],
   "source": [
    "# This function is another version of the previous one, but here it returns a list of similarity values\n",
    "def search1sims(input,nresults,dataframe):\n",
    "    from scipy.spatial.distance import cosine\n",
    "    sims=[(i,1-cosine(input[1],\n",
    "                      dataframe[\"mean_vector\"][i]))\n",
    "           for i in range(input[3])]\n",
    "    sims.sort(key=lambda x:x[1],reverse=True)\n",
    "    links=[dataframe[\"address\"][i[0]]\n",
    "            for i in sims[0:nresults]]\n",
    "    simi=[]\n",
    "    if input[2] in links:\n",
    "        three=sims[0:nresults]\n",
    "        simi=[res for res in three if input[2]==dataframe[\"address\"][res[0]]]\n",
    "    return simi[0][1] if len(simi)==1 else 0"
   ]
  },
  {
   "cell_type": "code",
   "execution_count": 70,
   "metadata": {},
   "outputs": [],
   "source": [
    "# This function serves the need to parallelize the whole searching process to save time\n",
    "def parallel_search(nqueries,dataframe):\n",
    "    n_samples=20 if nqueries>20 else nqueries\n",
    "    search_result=dv.map_sync(search1sims,\n",
    "    [(bbc_queries_word2vec[\"query\"][i],bbc_queries_word2vec[\"mean_vec\"][i],bbc_queries_word2vec[\"document\"][i],nqueries)\n",
    "     for i in range(nqueries)],[3 for _ in range(nqueries)],\n",
    "     [dataframe for _ in range(nqueries)])\n",
    "    return search_result"
   ]
  },
  {
   "cell_type": "code",
   "execution_count": 143,
   "metadata": {},
   "outputs": [],
   "source": [
    "similarities=parallel_search(2225,dataframe_not_lemmetized)\n",
    "similarities=[v for v in similarities if v!=0]"
   ]
  },
  {
   "cell_type": "code",
   "execution_count": 144,
   "metadata": {},
   "outputs": [],
   "source": [
    "rounded=[round(num, 3) for num in similarities]"
   ]
  },
  {
   "cell_type": "code",
   "execution_count": 19,
   "metadata": {},
   "outputs": [
    {
     "name": "stdout",
     "output_type": "stream",
     "text": [
      "number of documents 141\r"
     ]
    }
   ],
   "source": [
    "fail_ratios=[]\n",
    "iss=[]\n",
    "for i in np.arange(1,150,10).tolist():\n",
    "    s_result=parallel_search(i,dataframe_lemmetized)\n",
    "    n_fails=[1 for i in s_result if i==1]\n",
    "    print(f\"number of documents {i}\" , end=\"\\r\")\n",
    "    fail_ratios.append(len(n_fails)/i ) #if i<20 else len(n_fails)/20\n",
    "    iss.append(i)"
   ]
  },
  {
   "cell_type": "code",
   "execution_count": 131,
   "metadata": {},
   "outputs": [
    {
     "data": {
      "text/plain": [
       "0.6644486544753722"
      ]
     },
     "execution_count": 131,
     "metadata": {},
     "output_type": "execute_result"
    }
   ],
   "source": [
    "np.mean(fail_ratios) #fasttext"
   ]
  },
  {
   "cell_type": "code",
   "execution_count": 90,
   "metadata": {},
   "outputs": [],
   "source": [
    "import matplotlib.pyplot as plt\n",
    "from collections import Counter"
   ]
  },
  {
   "cell_type": "code",
   "execution_count": 131,
   "metadata": {},
   "outputs": [],
   "source": [
    "counts = Counter(rounded)\n",
    "unique_floats = list(counts.keys())\n",
    "count_values = list(counts.values())"
   ]
  },
  {
   "cell_type": "code",
   "execution_count": 146,
   "metadata": {},
   "outputs": [
    {
     "name": "stderr",
     "output_type": "stream",
     "text": [
      "No artists with labels found to put in legend.  Note that artists whose label start with an underscore are ignored when legend() is called with no argument.\n"
     ]
    },
    {
     "data": {
      "image/png": "[encoded data removed]",
      "text/plain": [
       "<Figure size 640x480 with 1 Axes>"
      ]
     },
     "metadata": {},
     "output_type": "display_data"
    }
   ],
   "source": [
    "# plt.plot(rounded,label=\"Ratios #correct_labels/#queries\")\n",
    "# plt.plot([np.mean(rounded) for i in range(len(rounded))],label=\"Average\")\n",
    "plt.hist(rounded,edgecolor='k')\n",
    "plt.legend()\n",
    "plt.xlabel('Similarity values of correct predictions')\n",
    "plt.ylabel('Occurrences')\n",
    "#plt.savefig(\"latex/figures/lemmatization3.pdf\")\n",
    "plt.show() "
   ]
  }
 ],
 "metadata": {
  "kernelspec": {
   "display_name": "Python 3",
   "language": "python",
   "name": "python3"
  },
  "language_info": {
   "codemirror_mode": {
    "name": "ipython",
    "version": 3
   },
   "file_extension": ".py",
   "mimetype": "text/x-python",
   "name": "python",
   "nbconvert_exporter": "python",
   "pygments_lexer": "ipython3",
   "version": "3.7.2"
  },
  "orig_nbformat": 4
 },
 "nbformat": 4,
 "nbformat_minor": 2
}
