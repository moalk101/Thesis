{
 "cells": [
  {
   "cell_type": "markdown",
   "metadata": {},
   "source": [
    "Preparing the wiki documents for the queries with both models fasttext and word2vec"
   ]
  },
  {
   "cell_type": "code",
   "execution_count": 12,
   "metadata": {},
   "outputs": [],
   "source": [
    "import fasttext\n",
    "import pandas as pd\n",
    "import numpy as np\n",
    "import ast\n",
    "from scipy.spatial.distance import cosine\n",
    "import re"
   ]
  },
  {
   "cell_type": "code",
   "execution_count": 39,
   "metadata": {},
   "outputs": [
    {
     "data": {
      "text/html": [
       "<div>\n",
       "<style scoped>\n",
       "    .dataframe tbody tr th:only-of-type {\n",
       "        vertical-align: middle;\n",
       "    }\n",
       "\n",
       "    .dataframe tbody tr th {\n",
       "        vertical-align: top;\n",
       "    }\n",
       "\n",
       "    .dataframe thead th {\n",
       "        text-align: right;\n",
       "    }\n",
       "</style>\n",
       "<table border=\"1\" class=\"dataframe\">\n",
       "  <thead>\n",
       "    <tr style=\"text-align: right;\">\n",
       "      <th></th>\n",
       "      <th>address</th>\n",
       "      <th>html</th>\n",
       "      <th>hash_code</th>\n",
       "      <th>embedding_index</th>\n",
       "      <th>mean_vector</th>\n",
       "    </tr>\n",
       "  </thead>\n",
       "  <tbody>\n",
       "    <tr>\n",
       "      <th>0</th>\n",
       "      <td>0.txt</td>\n",
       "      <td>[chapman, lacrosse, reservation, reorder, hut,...</td>\n",
       "      <td>0.txt</td>\n",
       "      <td>[1024699, 11407, 9457, 98887, 32122, 38612, 17...</td>\n",
       "      <td>[0.006763216, 0.021769172, 0.0070117326, 0.115...</td>\n",
       "    </tr>\n",
       "    <tr>\n",
       "      <th>1</th>\n",
       "      <td>1.txt</td>\n",
       "      <td>[hale, gale, pringle, karoun, control, feet, s...</td>\n",
       "      <td>1.txt</td>\n",
       "      <td>[137597, 80005, 509, 1145, 726886, 1537228, 11...</td>\n",
       "      <td>[0.006228521, 0.02577385, 0.0097629195, 0.0876...</td>\n",
       "    </tr>\n",
       "    <tr>\n",
       "      <th>2</th>\n",
       "      <td>2.txt</td>\n",
       "      <td>[patriation, disasters, milestone, hart, elphi...</td>\n",
       "      <td>2.txt</td>\n",
       "      <td>[734193, 10492, 6186, 170464, 19091, 1701433, ...</td>\n",
       "      <td>[0.015645692, 0.02687135, 0.0032806485, 0.0958...</td>\n",
       "    </tr>\n",
       "    <tr>\n",
       "      <th>3</th>\n",
       "      <td>3.txt</td>\n",
       "      <td>[able, eurasian, gledhill, krishnamoorthy, rai...</td>\n",
       "      <td>3.txt</td>\n",
       "      <td>[346, 1799533, 5015, 170464, 35853, 38612, 137...</td>\n",
       "      <td>[0.015446341, 0.036536463, 0.009860179, 0.1136...</td>\n",
       "    </tr>\n",
       "    <tr>\n",
       "      <th>4</th>\n",
       "      <td>4.txt</td>\n",
       "      <td>[able, marketable, athlete, hoddle, fabio, mil...</td>\n",
       "      <td>4.txt</td>\n",
       "      <td>[346, 28073, 5230, 6186, 7781, 10128, 170464, ...</td>\n",
       "      <td>[0.0050075427, 0.032835513, 0.012704998, 0.077...</td>\n",
       "    </tr>\n",
       "  </tbody>\n",
       "</table>\n",
       "</div>"
      ],
      "text/plain": [
       "  address                                               html hash_code  \\\n",
       "0   0.txt  [chapman, lacrosse, reservation, reorder, hut,...     0.txt   \n",
       "1   1.txt  [hale, gale, pringle, karoun, control, feet, s...     1.txt   \n",
       "2   2.txt  [patriation, disasters, milestone, hart, elphi...     2.txt   \n",
       "3   3.txt  [able, eurasian, gledhill, krishnamoorthy, rai...     3.txt   \n",
       "4   4.txt  [able, marketable, athlete, hoddle, fabio, mil...     4.txt   \n",
       "\n",
       "                                     embedding_index  \\\n",
       "0  [1024699, 11407, 9457, 98887, 32122, 38612, 17...   \n",
       "1  [137597, 80005, 509, 1145, 726886, 1537228, 11...   \n",
       "2  [734193, 10492, 6186, 170464, 19091, 1701433, ...   \n",
       "3  [346, 1799533, 5015, 170464, 35853, 38612, 137...   \n",
       "4  [346, 28073, 5230, 6186, 7781, 10128, 170464, ...   \n",
       "\n",
       "                                         mean_vector  \n",
       "0  [0.006763216, 0.021769172, 0.0070117326, 0.115...  \n",
       "1  [0.006228521, 0.02577385, 0.0097629195, 0.0876...  \n",
       "2  [0.015645692, 0.02687135, 0.0032806485, 0.0958...  \n",
       "3  [0.015446341, 0.036536463, 0.009860179, 0.1136...  \n",
       "4  [0.0050075427, 0.032835513, 0.012704998, 0.077...  "
      ]
     },
     "execution_count": 39,
     "metadata": {},
     "output_type": "execute_result"
    }
   ],
   "source": [
    "df_wikis=pd.read_csv(\"back_up/modified_data_wiki.csv\")\n",
    "df_wikis[\"html\"]=df_wikis[\"html\"].apply(lambda x: ast.literal_eval(x))\n",
    "df_wikis[\"mean_vector\"]=df_wikis[\"mean_vector\"].apply(lambda x: ast.literal_eval(x))\n",
    "df_wikis.head()"
   ]
  },
  {
   "cell_type": "code",
   "execution_count": 128,
   "metadata": {},
   "outputs": [
    {
     "data": {
      "text/html": [
       "<div>\n",
       "<style scoped>\n",
       "    .dataframe tbody tr th:only-of-type {\n",
       "        vertical-align: middle;\n",
       "    }\n",
       "\n",
       "    .dataframe tbody tr th {\n",
       "        vertical-align: top;\n",
       "    }\n",
       "\n",
       "    .dataframe thead th {\n",
       "        text-align: right;\n",
       "    }\n",
       "</style>\n",
       "<table border=\"1\" class=\"dataframe\">\n",
       "  <thead>\n",
       "    <tr style=\"text-align: right;\">\n",
       "      <th></th>\n",
       "      <th>address</th>\n",
       "      <th>html</th>\n",
       "      <th>hash_code</th>\n",
       "      <th>embedding_index</th>\n",
       "      <th>mean_vector</th>\n",
       "    </tr>\n",
       "  </thead>\n",
       "  <tbody>\n",
       "    <tr>\n",
       "      <th>0</th>\n",
       "      <td>0.txt</td>\n",
       "      <td>[land, spring, wrap, member, affect, game, lum...</td>\n",
       "      <td>0.txt</td>\n",
       "      <td>[877, 1312, 7659, 536, 2220, 94, 671533, 11303...</td>\n",
       "      <td>[0.006763216, 0.021769166, 0.0070117326, 0.115...</td>\n",
       "    </tr>\n",
       "    <tr>\n",
       "      <th>1</th>\n",
       "      <td>1.txt</td>\n",
       "      <td>[levine, affiliation, тылаsakizayagagana, comp...</td>\n",
       "      <td>1.txt</td>\n",
       "      <td>[12714, 21394, 14488, 660, 471518, 151024, 636...</td>\n",
       "      <td>[0.006228521, 0.025773851, 0.009762919, 0.0876...</td>\n",
       "    </tr>\n",
       "    <tr>\n",
       "      <th>2</th>\n",
       "      <td>2.txt</td>\n",
       "      <td>[subsequently, land, macqueen, member, affect,...</td>\n",
       "      <td>2.txt</td>\n",
       "      <td>[6774, 877, 536, 2220, 541151, 94, 17528, 1115...</td>\n",
       "      <td>[0.015645692, 0.02687135, 0.0032806485, 0.0958...</td>\n",
       "    </tr>\n",
       "    <tr>\n",
       "      <th>3</th>\n",
       "      <td>3.txt</td>\n",
       "      <td>[subsequently, land, heine, spring, wrap, expl...</td>\n",
       "      <td>3.txt</td>\n",
       "      <td>[6774, 877, 1312, 7659, 50604, 536, 2220, 94, ...</td>\n",
       "      <td>[0.01544634, 0.036536463, 0.009860179, 0.11360...</td>\n",
       "    </tr>\n",
       "    <tr>\n",
       "      <th>4</th>\n",
       "      <td>4.txt</td>\n",
       "      <td>[subsequently, land, member, affect, game, rig...</td>\n",
       "      <td>4.txt</td>\n",
       "      <td>[6774, 877, 536, 2220, 94, 52509, 216, 14797, ...</td>\n",
       "      <td>[0.0050075427, 0.032835513, 0.012704999, 0.077...</td>\n",
       "    </tr>\n",
       "  </tbody>\n",
       "</table>\n",
       "</div>"
      ],
      "text/plain": [
       "  address                                               html hash_code  \\\n",
       "0   0.txt  [land, spring, wrap, member, affect, game, lum...     0.txt   \n",
       "1   1.txt  [levine, affiliation, тылаsakizayagagana, comp...     1.txt   \n",
       "2   2.txt  [subsequently, land, macqueen, member, affect,...     2.txt   \n",
       "3   3.txt  [subsequently, land, heine, spring, wrap, expl...     3.txt   \n",
       "4   4.txt  [subsequently, land, member, affect, game, rig...     4.txt   \n",
       "\n",
       "                                     embedding_index  \\\n",
       "0  [877, 1312, 7659, 536, 2220, 94, 671533, 11303...   \n",
       "1  [12714, 21394, 14488, 660, 471518, 151024, 636...   \n",
       "2  [6774, 877, 536, 2220, 541151, 94, 17528, 1115...   \n",
       "3  [6774, 877, 1312, 7659, 50604, 536, 2220, 94, ...   \n",
       "4  [6774, 877, 536, 2220, 94, 52509, 216, 14797, ...   \n",
       "\n",
       "                                         mean_vector  \n",
       "0  [0.006763216, 0.021769166, 0.0070117326, 0.115...  \n",
       "1  [0.006228521, 0.025773851, 0.009762919, 0.0876...  \n",
       "2  [0.015645692, 0.02687135, 0.0032806485, 0.0958...  \n",
       "3  [0.01544634, 0.036536463, 0.009860179, 0.11360...  \n",
       "4  [0.0050075427, 0.032835513, 0.012704999, 0.077...  "
      ]
     },
     "execution_count": 128,
     "metadata": {},
     "output_type": "execute_result"
    }
   ],
   "source": [
    "df_gensim=pd.read_csv(\"back_up/modified_data_wiki_gensim.csv\")\n",
    "df_gensim[\"html\"]=df_gensim[\"html\"].apply(lambda x: ast.literal_eval(x))\n",
    "df_gensim[\"mean_vector\"]=df_gensim[\"mean_vector\"].apply(lambda x: ast.literal_eval(x))\n",
    "df_gensim.head()"
   ]
  },
  {
   "cell_type": "code",
   "execution_count": 34,
   "metadata": {},
   "outputs": [
    {
     "data": {
      "text/html": [
       "<div>\n",
       "<style scoped>\n",
       "    .dataframe tbody tr th:only-of-type {\n",
       "        vertical-align: middle;\n",
       "    }\n",
       "\n",
       "    .dataframe tbody tr th {\n",
       "        vertical-align: top;\n",
       "    }\n",
       "\n",
       "    .dataframe thead th {\n",
       "        text-align: right;\n",
       "    }\n",
       "</style>\n",
       "<table border=\"1\" class=\"dataframe\">\n",
       "  <thead>\n",
       "    <tr style=\"text-align: right;\">\n",
       "      <th></th>\n",
       "      <th>address</th>\n",
       "      <th>html</th>\n",
       "      <th>hash_code</th>\n",
       "      <th>embedding_index</th>\n",
       "      <th>mean_vector</th>\n",
       "    </tr>\n",
       "  </thead>\n",
       "  <tbody>\n",
       "    <tr>\n",
       "      <th>0</th>\n",
       "      <td>141.txt</td>\n",
       "      <td>[able, taste, canadian, concert, harpa, marvel...</td>\n",
       "      <td>141.txt</td>\n",
       "      <td>[346, 4386, 169741, 2810, 26240, 17589, 7022, ...</td>\n",
       "      <td>[-0.004773563, 0.0052790744, -0.009924747, 0.0...</td>\n",
       "    </tr>\n",
       "    <tr>\n",
       "      <th>1</th>\n",
       "      <td>142.txt</td>\n",
       "      <td>[officeshowtimes, watchget, int, centralfestiv...</td>\n",
       "      <td>142.txt</td>\n",
       "      <td>[77971, 1081, 313, 1917, 1967028, 711, 1618, 3...</td>\n",
       "      <td>[-0.01271556, 0.0061614485, -0.0076173763, 0.0...</td>\n",
       "    </tr>\n",
       "    <tr>\n",
       "      <th>2</th>\n",
       "      <td>143.txt</td>\n",
       "      <td>[worst, century, publisher, fire, man, world, ...</td>\n",
       "      <td>143.txt</td>\n",
       "      <td>[1444, 3343, 5297, 544, 251, 157, 1221, 55119,...</td>\n",
       "      <td>[-0.009044452, 0.009303404, 0.00014058527, 0.0...</td>\n",
       "    </tr>\n",
       "    <tr>\n",
       "      <th>3</th>\n",
       "      <td>144.txt</td>\n",
       "      <td>[sliderargentinean, network, bikers, world, re...</td>\n",
       "      <td>144.txt</td>\n",
       "      <td>[751, 23729, 157, 1315, 1185445, 1535, 568, 15...</td>\n",
       "      <td>[-0.004840087, -0.0033796125, -0.008667704, 0....</td>\n",
       "    </tr>\n",
       "    <tr>\n",
       "      <th>4</th>\n",
       "      <td>145.txt</td>\n",
       "      <td>[expand, options, spacewalk, service, suit, mo...</td>\n",
       "      <td>145.txt</td>\n",
       "      <td>[1955, 1353, 22045, 277, 2457, 229349, 290335]</td>\n",
       "      <td>[-0.005614896, 0.011618202, 0.0014991375, 0.05...</td>\n",
       "    </tr>\n",
       "  </tbody>\n",
       "</table>\n",
       "</div>"
      ],
      "text/plain": [
       "   address                                               html hash_code  \\\n",
       "0  141.txt  [able, taste, canadian, concert, harpa, marvel...   141.txt   \n",
       "1  142.txt  [officeshowtimes, watchget, int, centralfestiv...   142.txt   \n",
       "2  143.txt  [worst, century, publisher, fire, man, world, ...   143.txt   \n",
       "3  144.txt  [sliderargentinean, network, bikers, world, re...   144.txt   \n",
       "4  145.txt  [expand, options, spacewalk, service, suit, mo...   145.txt   \n",
       "\n",
       "                                     embedding_index  \\\n",
       "0  [346, 4386, 169741, 2810, 26240, 17589, 7022, ...   \n",
       "1  [77971, 1081, 313, 1917, 1967028, 711, 1618, 3...   \n",
       "2  [1444, 3343, 5297, 544, 251, 157, 1221, 55119,...   \n",
       "3  [751, 23729, 157, 1315, 1185445, 1535, 568, 15...   \n",
       "4     [1955, 1353, 22045, 277, 2457, 229349, 290335]   \n",
       "\n",
       "                                         mean_vector  \n",
       "0  [-0.004773563, 0.0052790744, -0.009924747, 0.0...  \n",
       "1  [-0.01271556, 0.0061614485, -0.0076173763, 0.0...  \n",
       "2  [-0.009044452, 0.009303404, 0.00014058527, 0.0...  \n",
       "3  [-0.004840087, -0.0033796125, -0.008667704, 0....  \n",
       "4  [-0.005614896, 0.011618202, 0.0014991375, 0.05...  "
      ]
     },
     "execution_count": 34,
     "metadata": {},
     "output_type": "execute_result"
    }
   ],
   "source": [
    "df_fasttext=pd.read_csv(\"back_up/modified_data_wiki_fasttext.csv\")\n",
    "df_fasttext[\"html\"]=df_fasttext[\"html\"].apply(lambda x: ast.literal_eval(x))\n",
    "df_fasttext[\"mean_vector\"]=df_fasttext[\"mean_vector\"].apply(lambda x: ast.literal_eval(x))\n",
    "df_fasttext.head()"
   ]
  },
  {
   "cell_type": "code",
   "execution_count": 42,
   "metadata": {},
   "outputs": [
    {
     "name": "stderr",
     "output_type": "stream",
     "text": [
      "Warning : `load_model` does not return WordVectorModel or SupervisedModel any more, but a `FastText` object which is very similar.\n"
     ]
    }
   ],
   "source": [
    "model1=fasttext.load_model(\"cc.en.300.bin\")"
   ]
  },
  {
   "cell_type": "code",
   "execution_count": 101,
   "metadata": {},
   "outputs": [],
   "source": [
    "#mean vector for the fasttext model\n",
    "def mean_vecs(df):\n",
    "    df[\"mean_vector\"] = df[\"html\"].apply(lambda x:\n",
    "                                          list(np.mean(\n",
    "                                              [model1.get_word_vector(w)\n",
    "                                                         for w in x],\n",
    "                                                           axis=0)))\n",
    "    "
   ]
  },
  {
   "cell_type": "code",
   "execution_count": 47,
   "metadata": {},
   "outputs": [],
   "source": [
    "mean_vecs(df_wikis)"
   ]
  },
  {
   "cell_type": "code",
   "execution_count": 48,
   "metadata": {},
   "outputs": [],
   "source": [
    "#df_wikis.to_csv(\"back_up/modified_data_wiki_fasttext.csv\",index=False)"
   ]
  },
  {
   "cell_type": "code",
   "execution_count": 122,
   "metadata": {},
   "outputs": [
    {
     "data": {
      "text/html": [
       "<div>\n",
       "<style scoped>\n",
       "    .dataframe tbody tr th:only-of-type {\n",
       "        vertical-align: middle;\n",
       "    }\n",
       "\n",
       "    .dataframe tbody tr th {\n",
       "        vertical-align: top;\n",
       "    }\n",
       "\n",
       "    .dataframe thead th {\n",
       "        text-align: right;\n",
       "    }\n",
       "</style>\n",
       "<table border=\"1\" class=\"dataframe\">\n",
       "  <thead>\n",
       "    <tr style=\"text-align: right;\">\n",
       "      <th></th>\n",
       "      <th>address</th>\n",
       "      <th>html</th>\n",
       "      <th>hash_code</th>\n",
       "      <th>embedding_index</th>\n",
       "      <th>mean_vector</th>\n",
       "    </tr>\n",
       "  </thead>\n",
       "  <tbody>\n",
       "    <tr>\n",
       "      <th>0</th>\n",
       "      <td>0.txt</td>\n",
       "      <td>[land, spring, wrap, member, affect, game, lum...</td>\n",
       "      <td>0.txt</td>\n",
       "      <td>[877, 1312, 7659, 536, 2220, 94, 671533, 11303...</td>\n",
       "      <td>[-0.0117921885, -0.005287877, -0.011796522, 0....</td>\n",
       "    </tr>\n",
       "    <tr>\n",
       "      <th>1</th>\n",
       "      <td>1.txt</td>\n",
       "      <td>[levine, affiliation, тылаsakizayagagana, comp...</td>\n",
       "      <td>1.txt</td>\n",
       "      <td>[12714, 21394, 14488, 660, 471518, 151024, 636...</td>\n",
       "      <td>[-0.015830977, -0.0017190003, -0.0070710895, 0...</td>\n",
       "    </tr>\n",
       "    <tr>\n",
       "      <th>2</th>\n",
       "      <td>2.txt</td>\n",
       "      <td>[subsequently, land, macqueen, member, affect,...</td>\n",
       "      <td>2.txt</td>\n",
       "      <td>[6774, 877, 536, 2220, 541151, 94, 17528, 1115...</td>\n",
       "      <td>[-0.010579195, -0.0015330779, -0.012458092, 0....</td>\n",
       "    </tr>\n",
       "    <tr>\n",
       "      <th>3</th>\n",
       "      <td>3.txt</td>\n",
       "      <td>[subsequently, land, heine, spring, wrap, expl...</td>\n",
       "      <td>3.txt</td>\n",
       "      <td>[6774, 877, 1312, 7659, 50604, 536, 2220, 94, ...</td>\n",
       "      <td>[-0.013281911, -0.005396166, -0.008548999, 0.0...</td>\n",
       "    </tr>\n",
       "    <tr>\n",
       "      <th>4</th>\n",
       "      <td>4.txt</td>\n",
       "      <td>[subsequently, land, member, affect, game, rig...</td>\n",
       "      <td>4.txt</td>\n",
       "      <td>[6774, 877, 536, 2220, 94, 52509, 216, 14797, ...</td>\n",
       "      <td>[-0.008912463, -0.0130499555, -0.0213696, 0.04...</td>\n",
       "    </tr>\n",
       "  </tbody>\n",
       "</table>\n",
       "</div>"
      ],
      "text/plain": [
       "  address                                               html hash_code  \\\n",
       "0   0.txt  [land, spring, wrap, member, affect, game, lum...     0.txt   \n",
       "1   1.txt  [levine, affiliation, тылаsakizayagagana, comp...     1.txt   \n",
       "2   2.txt  [subsequently, land, macqueen, member, affect,...     2.txt   \n",
       "3   3.txt  [subsequently, land, heine, spring, wrap, expl...     3.txt   \n",
       "4   4.txt  [subsequently, land, member, affect, game, rig...     4.txt   \n",
       "\n",
       "                                     embedding_index  \\\n",
       "0  [877, 1312, 7659, 536, 2220, 94, 671533, 11303...   \n",
       "1  [12714, 21394, 14488, 660, 471518, 151024, 636...   \n",
       "2  [6774, 877, 536, 2220, 541151, 94, 17528, 1115...   \n",
       "3  [6774, 877, 1312, 7659, 50604, 536, 2220, 94, ...   \n",
       "4  [6774, 877, 536, 2220, 94, 52509, 216, 14797, ...   \n",
       "\n",
       "                                         mean_vector  \n",
       "0  [-0.0117921885, -0.005287877, -0.011796522, 0....  \n",
       "1  [-0.015830977, -0.0017190003, -0.0070710895, 0...  \n",
       "2  [-0.010579195, -0.0015330779, -0.012458092, 0....  \n",
       "3  [-0.013281911, -0.005396166, -0.008548999, 0.0...  \n",
       "4  [-0.008912463, -0.0130499555, -0.0213696, 0.04...  "
      ]
     },
     "execution_count": 122,
     "metadata": {},
     "output_type": "execute_result"
    }
   ],
   "source": [
    "#df_gensim.to_csv(\"back_up/modified_data_wiki_fasttext.csv\")\n",
    "df_gensim.head()"
   ]
  },
  {
   "cell_type": "code",
   "execution_count": 130,
   "metadata": {},
   "outputs": [],
   "source": [
    "def clean_tokens(tokens):\n",
    "    english_letters_pattern = re.compile(r'^[a-zA-Z]+$')\n",
    "    english_tokens = [token for token in tokens if english_letters_pattern.match(token)]\n",
    "    return english_tokens"
   ]
  },
  {
   "cell_type": "code",
   "execution_count": 134,
   "metadata": {},
   "outputs": [],
   "source": [
    "df_fasttext.html=df_fasttext.html.apply(lambda x: clean_tokens(x))"
   ]
  },
  {
   "cell_type": "code",
   "execution_count": 136,
   "metadata": {},
   "outputs": [],
   "source": [
    "mean_vecs(df_fasttext)"
   ]
  },
  {
   "cell_type": "code",
   "execution_count": 139,
   "metadata": {},
   "outputs": [],
   "source": [
    "#df_fasttext.to_csv(\"back_up/modified_data_wiki_fasttext.csv\",index=False)"
   ]
  },
  {
   "cell_type": "code",
   "execution_count": 104,
   "metadata": {},
   "outputs": [],
   "source": [
    "# def search(query):\n",
    "#     tokens=fasttext.tokenize(query)\n",
    "#     mean=np.mean([model1.get_word_vector(w) for w in tokens],axis=0)\n",
    "#     sims=[(1-cosine(mean,doc),i) for i in range(len(df_data)) for doc in df_data.mean_vector[i]]\n",
    "#     return sorted(sims,reverse=True,key=lambda x: x[0])[0:10]"
   ]
  },
  {
   "cell_type": "code",
   "execution_count": 105,
   "metadata": {},
   "outputs": [
    {
     "data": {
      "text/plain": [
       "[(0.03721371293067932, 13),\n",
       " (0.03721370920538902, 23),\n",
       " (0.03721370920538902, 71),\n",
       " (0.03721370920538902, 74),\n",
       " (0.03721370920538902, 75),\n",
       " (0.03721370920538902, 102),\n",
       " (0.037213705480098724, 1),\n",
       " (0.037213705480098724, 2),\n",
       " (0.037213705480098724, 4),\n",
       " (0.037213705480098724, 10)]"
      ]
     },
     "execution_count": 105,
     "metadata": {},
     "output_type": "execute_result"
    }
   ],
   "source": [
    "# search(\"United states of america\")"
   ]
  },
  {
   "cell_type": "code",
   "execution_count": 106,
   "metadata": {},
   "outputs": [],
   "source": [
    "#df_data.to_csv(\"back_up/modified_data_wiki_fasttext.csv\",index=False)"
   ]
  },
  {
   "cell_type": "code",
   "execution_count": 116,
   "metadata": {},
   "outputs": [
    {
     "data": {
      "text/html": [
       "<div>\n",
       "<style scoped>\n",
       "    .dataframe tbody tr th:only-of-type {\n",
       "        vertical-align: middle;\n",
       "    }\n",
       "\n",
       "    .dataframe tbody tr th {\n",
       "        vertical-align: top;\n",
       "    }\n",
       "\n",
       "    .dataframe thead th {\n",
       "        text-align: right;\n",
       "    }\n",
       "</style>\n",
       "<table border=\"1\" class=\"dataframe\">\n",
       "  <thead>\n",
       "    <tr style=\"text-align: right;\">\n",
       "      <th></th>\n",
       "      <th>document</th>\n",
       "      <th>query</th>\n",
       "      <th>mean_vec</th>\n",
       "    </tr>\n",
       "  </thead>\n",
       "  <tbody>\n",
       "    <tr>\n",
       "      <th>0</th>\n",
       "      <td>https://en.wikipedia.org/wiki/United_States</td>\n",
       "      <td>world the united april states archived origina...</td>\n",
       "      <td>[-0.050085448, -0.004345703, 0.00020751954, 0....</td>\n",
       "    </tr>\n",
       "    <tr>\n",
       "      <th>1</th>\n",
       "      <td>https://en.wikipedia.org/wiki/Donald_Trump</td>\n",
       "      <td>april donald march michael november august oct...</td>\n",
       "      <td>[-0.08433838, 0.030859375, -0.052067567, 0.211...</td>\n",
       "    </tr>\n",
       "    <tr>\n",
       "      <th>2</th>\n",
       "      <td>https://en.wikipedia.org/wiki/Elizabeth_II</td>\n",
       "      <td>philip pimlott the september queen in archived...</td>\n",
       "      <td>[-0.018115997, 0.02209282, -0.10110474, 0.1306...</td>\n",
       "    </tr>\n",
       "    <tr>\n",
       "      <th>3</th>\n",
       "      <td>https://en.wikipedia.org/wiki/India</td>\n",
       "      <td>university june the february september may dec...</td>\n",
       "      <td>[-0.03807678, 0.053092957, -0.024313355, 0.167...</td>\n",
       "    </tr>\n",
       "    <tr>\n",
       "      <th>4</th>\n",
       "      <td>https://en.wikipedia.org/wiki/Cristiano_Ronaldo</td>\n",
       "      <td>february may ronaldo madrid march october arch...</td>\n",
       "      <td>[-0.054336548, -0.019396972, -0.01795349, 0.25...</td>\n",
       "    </tr>\n",
       "  </tbody>\n",
       "</table>\n",
       "</div>"
      ],
      "text/plain": [
       "                                          document  \\\n",
       "0      https://en.wikipedia.org/wiki/United_States   \n",
       "1       https://en.wikipedia.org/wiki/Donald_Trump   \n",
       "2       https://en.wikipedia.org/wiki/Elizabeth_II   \n",
       "3              https://en.wikipedia.org/wiki/India   \n",
       "4  https://en.wikipedia.org/wiki/Cristiano_Ronaldo   \n",
       "\n",
       "                                               query  \\\n",
       "0  world the united april states archived origina...   \n",
       "1  april donald march michael november august oct...   \n",
       "2  philip pimlott the september queen in archived...   \n",
       "3  university june the february september may dec...   \n",
       "4  february may ronaldo madrid march october arch...   \n",
       "\n",
       "                                            mean_vec  \n",
       "0  [-0.050085448, -0.004345703, 0.00020751954, 0....  \n",
       "1  [-0.08433838, 0.030859375, -0.052067567, 0.211...  \n",
       "2  [-0.018115997, 0.02209282, -0.10110474, 0.1306...  \n",
       "3  [-0.03807678, 0.053092957, -0.024313355, 0.167...  \n",
       "4  [-0.054336548, -0.019396972, -0.01795349, 0.25...  "
      ]
     },
     "execution_count": 116,
     "metadata": {},
     "output_type": "execute_result"
    }
   ],
   "source": [
    "queries=pd.read_csv(\"back_up/queries_wiki_gensim.csv\")\n",
    "queries.head()"
   ]
  },
  {
   "cell_type": "code",
   "execution_count": 93,
   "metadata": {},
   "outputs": [],
   "source": [
    "bbc_df=pd.read_csv(\"back_up/modified_data_lemmetized.csv\")\n",
    "bbc_df[\"html\"]=bbc_df[\"html\"].apply(lambda x: ast.literal_eval(x))"
   ]
  },
  {
   "cell_type": "code",
   "execution_count": 102,
   "metadata": {},
   "outputs": [],
   "source": [
    "mean_vecs(bbc_df)"
   ]
  },
  {
   "cell_type": "code",
   "execution_count": 105,
   "metadata": {},
   "outputs": [],
   "source": [
    "bbc_df.to_csv(\"back_up/modified_data_bbc_fasttext.csv\",index=False)"
   ]
  },
  {
   "cell_type": "code",
   "execution_count": null,
   "metadata": {},
   "outputs": [],
   "source": []
  }
 ],
 "metadata": {
  "kernelspec": {
   "display_name": "Python 3",
   "language": "python",
   "name": "python3"
  },
  "language_info": {
   "codemirror_mode": {
    "name": "ipython",
    "version": 3
   },
   "file_extension": ".py",
   "mimetype": "text/x-python",
   "name": "python",
   "nbconvert_exporter": "python",
   "pygments_lexer": "ipython3",
   "version": "3.7.2"
  },
  "orig_nbformat": 4
 },
 "nbformat": 4,
 "nbformat_minor": 2
}
